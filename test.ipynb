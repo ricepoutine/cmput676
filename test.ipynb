{
 "cells": [
  {
   "cell_type": "code",
   "execution_count": 8,
   "metadata": {},
   "outputs": [
    {
     "name": "stdout",
     "output_type": "stream",
     "text": [
      "(1500, 2048) (1500, 1)\n"
     ]
    }
   ],
   "source": [
    "# not test training or test set, simply a file to try stuff out\n",
    "import pandas as pd\n",
    "import csv\n",
    "from pathlib import Path\n",
    "\n",
    "feats_fname = Path.cwd() / \"FEATS_test.csv\"\n",
    "preds_fname = Path.cwd() / \"PREDS_test.csv\"\n",
    "\n",
    "feats_df = pd.read_csv(feats_fname, header=None)\n",
    "preds_df = pd.read_csv(preds_fname, header=None) #0 is benign, 1 is malignant\n",
    "\n",
    "print(feats_df.shape, preds_df.shape)"
   ]
  },
  {
   "cell_type": "code",
   "execution_count": 37,
   "metadata": {},
   "outputs": [
    {
     "name": "stdout",
     "output_type": "stream",
     "text": [
      "-334.1818614689564\n"
     ]
    }
   ],
   "source": [
    "# model multivariate normal distributions for each class\n",
    "import numpy as np\n",
    "from scipy.stats import multivariate_normal, entropy\n",
    "\n",
    "Y_0 = []\n",
    "Y_1 = []\n",
    "\n",
    "#print(feats_df.head())\n",
    "#print(feats_df.iloc[0])\n",
    "\n",
    "for row in preds_df.itertuples():\n",
    "    if row[1] == 0:\n",
    "        Y_0.append(feats_df.iloc[row[0]])\n",
    "    else:\n",
    "        Y_1.append(feats_df.iloc[row[0]])    \n",
    "\n",
    "Y_0 = pd.DataFrame(Y_0)\n",
    "Y_1 = pd.DataFrame(Y_1)\n",
    "\n",
    "Y_0_mean = Y_0.mean(axis=0)\n",
    "Y_1_mean = Y_1.mean(axis=0)\n",
    "\n",
    "Y_0_cov = np.cov(Y_0.T)\n",
    "Y_1_cov = np.cov(Y_1.T)\n",
    "\n",
    "Y_0_dist = multivariate_normal(Y_0_mean, Y_0_cov, allow_singular=True)\n",
    "Y_1_dist = multivariate_normal(Y_1_mean, Y_1_cov, allow_singular=True)\n",
    "\n",
    "\n"
   ]
  },
  {
   "cell_type": "code",
   "execution_count": 41,
   "metadata": {},
   "outputs": [
    {
     "name": "stdout",
     "output_type": "stream",
     "text": [
      "-334.1818614689564 51.37499594793576\n"
     ]
    },
    {
     "ename": "TypeError",
     "evalue": "pdf() missing 1 required positional argument: 'x'",
     "output_type": "error",
     "traceback": [
      "\u001b[0;31m---------------------------------------------------------------------------\u001b[0m",
      "\u001b[0;31mTypeError\u001b[0m                                 Traceback (most recent call last)",
      "Cell \u001b[0;32mIn[41], line 2\u001b[0m\n\u001b[1;32m      1\u001b[0m \u001b[39mprint\u001b[39m(Y_0_dist\u001b[39m.\u001b[39mentropy(), Y_1_dist\u001b[39m.\u001b[39mentropy())\n\u001b[0;32m----> 2\u001b[0m \u001b[39mprint\u001b[39m(entropy(Y_0_dist\u001b[39m.\u001b[39;49mpdf(), Y_1_dist\u001b[39m.\u001b[39mpdf()))\n",
      "\u001b[0;31mTypeError\u001b[0m: pdf() missing 1 required positional argument: 'x'"
     ]
    }
   ],
   "source": [
    "print(Y_0_dist.entropy(), Y_1_dist.entropy())\n",
    "print(entropy(Y_0_dist.pdf(), Y_1_dist.pdf()))"
   ]
  }
 ],
 "metadata": {
  "kernelspec": {
   "display_name": "rain",
   "language": "python",
   "name": "python3"
  },
  "language_info": {
   "codemirror_mode": {
    "name": "ipython",
    "version": 3
   },
   "file_extension": ".py",
   "mimetype": "text/x-python",
   "name": "python",
   "nbconvert_exporter": "python",
   "pygments_lexer": "ipython3",
   "version": "3.9.13"
  },
  "orig_nbformat": 4
 },
 "nbformat": 4,
 "nbformat_minor": 2
}
